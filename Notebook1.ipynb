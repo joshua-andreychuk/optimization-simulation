{
 "cells": [
  {
   "cell_type": "code",
   "execution_count": 1,
   "id": "5ac96b94",
   "metadata": {},
   "outputs": [
    {
     "name": "stdout",
     "output_type": "stream",
     "text": [
      "Optimal Price for Product A: $556.23\n",
      "Optimal Price for Product B: $378.68\n",
      "Maximum Profit: $866353.93\n"
     ]
    }
   ],
   "source": [
    "# Pricing Problem\n",
    "# You produce two products, but depending on the price, consumers might be willing to buy either of them.\n",
    "# Product A costs $10 to produce and Product B costs $12 to produce\n",
    "# Demand for Product A is 2000 - 3*Price A + 2*Price B\n",
    "# Demand for Product B is 1800 + 1.5*Price A - 5*Price B\n",
    "# Determine the prices for products A and B that maximize the profit\n",
    "\n",
    "import numpy as np\n",
    "from scipy.optimize import minimize\n",
    "\n",
    "# Define the cost of production for both products\n",
    "cost_A = 10\n",
    "cost_B = 12\n",
    "\n",
    "# Define the demand functions for both products\n",
    "def demand_A(price_A, price_B):\n",
    "    return 2000 - 3 * price_A + 2 * price_B\n",
    "\n",
    "def demand_B(price_A, price_B):\n",
    "    return 1800 + 1.5 * price_A - 5 * price_B\n",
    "\n",
    "# Define the profit function to be maximized\n",
    "def profit(prices):\n",
    "    price_A, price_B = prices\n",
    "    demandA = demand_A(price_A, price_B)\n",
    "    demandB = demand_B(price_A, price_B)\n",
    "    return -((price_A - cost_A) * demandA + (price_B - cost_B) * demandB)\n",
    "\n",
    "# Initial guess for the prices\n",
    "initial_guess = [10, 10]\n",
    "\n",
    "# Bounds for the prices (assuming they cannot be negative)\n",
    "bounds = [(0, None), (0, None)]\n",
    "\n",
    "# Use the minimize function to find the prices that maximize profit\n",
    "result = minimize(profit, initial_guess, bounds=bounds)\n",
    "\n",
    "if result.success:\n",
    "    optimal_prices = result.x\n",
    "    optimal_profit = -result.fun\n",
    "    print(f\"Optimal Price for Product A: ${optimal_prices[0]:.2f}\")\n",
    "    print(f\"Optimal Price for Product B: ${optimal_prices[1]:.2f}\")\n",
    "    print(f\"Maximum Profit: ${optimal_profit:.2f}\")\n",
    "else:\n",
    "    print(\"Optimization failed. Please check the problem setup.\")\n"
   ]
  },
  {
   "cell_type": "code",
   "execution_count": 2,
   "id": "333cfec6",
   "metadata": {},
   "outputs": [
    {
     "name": "stdout",
     "output_type": "stream",
     "text": [
      "Expected Profit: $1.27\n",
      "Probability of Losing Money: 23.48%\n"
     ]
    }
   ],
   "source": [
    "# Simulation Problem\n",
    "# A product has 5 componenents and sells for $22.\n",
    "# The cost for the components are uncertain.\n",
    "# Component 1 cost is normally distributed with a mean of $5 and a standard deviation of $0.25\n",
    "# Component 2 cost is exponentially distributed with a mean of $2\n",
    "# Component 3 cost is uniformly distributed between $4 and $6\n",
    "# Component 4 cost is triangularly distributed with a min of $3, max of $6, and a mode of $4\n",
    "# Component 5 cost is either $3 or $5 (70 percent of the time it will be $5)\n",
    "# Build a model that gives the expected profit as well as the probability of losing money.\n",
    "\n",
    "\n",
    "import numpy as np\n",
    "\n",
    "# Number of simulations\n",
    "num_simulations = 100000\n",
    "\n",
    "# Selling price\n",
    "selling_price = 22\n",
    "\n",
    "# Generate component costs\n",
    "component_1_cost = np.random.normal(5, 0.25, num_simulations)\n",
    "component_2_cost = np.random.exponential(2, num_simulations)\n",
    "component_3_cost = np.random.uniform(4, 6, num_simulations)\n",
    "component_4_cost = np.random.triangular(3, 4, 6, num_simulations)\n",
    "component_5_cost = np.random.choice([3, 5], num_simulations, p=[0.3, 0.7])\n",
    "\n",
    "# Calculate total cost and profit\n",
    "total_cost = component_1_cost + component_2_cost + component_3_cost + component_4_cost + component_5_cost\n",
    "profit = selling_price - total_cost\n",
    "\n",
    "# Calculate expected profit and probability of losing money\n",
    "expected_profit = np.mean(profit)\n",
    "probability_of_loss = np.mean(profit < 0)\n",
    "\n",
    "# Display results\n",
    "print(f\"Expected Profit: ${expected_profit:.2f}\")\n",
    "print(f\"Probability of Losing Money: {probability_of_loss:.2%}\")\n"
   ]
  },
  {
   "cell_type": "code",
   "execution_count": null,
   "id": "9df74032",
   "metadata": {},
   "outputs": [],
   "source": []
  }
 ],
 "metadata": {
  "kernelspec": {
   "display_name": "Python 3 (ipykernel)",
   "language": "python",
   "name": "python3"
  },
  "language_info": {
   "codemirror_mode": {
    "name": "ipython",
    "version": 3
   },
   "file_extension": ".py",
   "mimetype": "text/x-python",
   "name": "python",
   "nbconvert_exporter": "python",
   "pygments_lexer": "ipython3",
   "version": "3.9.13"
  }
 },
 "nbformat": 4,
 "nbformat_minor": 5
}
